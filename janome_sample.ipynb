{
  "nbformat": 4,
  "nbformat_minor": 0,
  "metadata": {
    "colab": {
      "provenance": [],
      "toc_visible": true,
      "authorship_tag": "ABX9TyP8vRmC1MUGR9g6zsK0KuH1",
      "include_colab_link": true
    },
    "kernelspec": {
      "name": "python3",
      "display_name": "Python 3"
    },
    "language_info": {
      "name": "python"
    }
  },
  "cells": [
    {
      "cell_type": "markdown",
      "metadata": {
        "id": "view-in-github",
        "colab_type": "text"
      },
      "source": [
        "<a href=\"https://colab.research.google.com/github/twtwtw-gj/janome_sample/blob/main/janome_sample.ipynb\" target=\"_parent\"><img src=\"https://colab.research.google.com/assets/colab-badge.svg\" alt=\"Open In Colab\"/></a>"
      ]
    },
    {
      "cell_type": "code",
      "execution_count": null,
      "metadata": {
        "colab": {
          "base_uri": "https://localhost:8080/"
        },
        "id": "TK06qf7WPLRM",
        "outputId": "0f5680d3-87a6-4d24-94a4-d09a3bbf8b02"
      },
      "outputs": [
        {
          "output_type": "stream",
          "name": "stdout",
          "text": [
            "hello world!\n"
          ]
        }
      ],
      "source": [
        "print(\"hello world!\")"
      ]
    },
    {
      "cell_type": "code",
      "source": [
        "!pip install janome"
      ],
      "metadata": {
        "colab": {
          "base_uri": "https://localhost:8080/"
        },
        "id": "3X35nMNkPVzN",
        "outputId": "496b39c5-f073-4582-ee55-3db0fbe2bc7b"
      },
      "execution_count": null,
      "outputs": [
        {
          "output_type": "stream",
          "name": "stdout",
          "text": [
            "Collecting janome\n",
            "  Downloading Janome-0.5.0-py2.py3-none-any.whl.metadata (2.6 kB)\n",
            "Downloading Janome-0.5.0-py2.py3-none-any.whl (19.7 MB)\n",
            "\u001b[2K   \u001b[90m━━━━━━━━━━━━━━━━━━━━━━━━━━━━━━━━━━━━━━━━\u001b[0m \u001b[32m19.7/19.7 MB\u001b[0m \u001b[31m81.6 MB/s\u001b[0m eta \u001b[36m0:00:00\u001b[0m\n",
            "\u001b[?25hInstalling collected packages: janome\n",
            "Successfully installed janome-0.5.0\n"
          ]
        }
      ]
    },
    {
      "cell_type": "code",
      "source": [
        "from janome.tokenizer import Tokenizer"
      ],
      "metadata": {
        "id": "trX0DyrGPbbs"
      },
      "execution_count": null,
      "outputs": []
    },
    {
      "cell_type": "code",
      "source": [
        "tokenizer = Tokenizer(\n",
        "\n",
        ")\n",
        "\n"
      ],
      "metadata": {
        "id": "KjvBeJcIPpF6"
      },
      "execution_count": null,
      "outputs": []
    },
    {
      "cell_type": "code",
      "source": [
        "tokens = tokenizer.tokenize(\"肉を食べよう！\")"
      ],
      "metadata": {
        "id": "LbZVli9gPsyy"
      },
      "execution_count": null,
      "outputs": []
    },
    {
      "cell_type": "code",
      "source": [
        "for token in tokens:\n",
        "  print(token)\n",
        "\n"
      ],
      "metadata": {
        "colab": {
          "base_uri": "https://localhost:8080/"
        },
        "id": "LMKW5RSzPwww",
        "outputId": "2fd0b4fe-3e93-468b-ebcf-552453e0e55a"
      },
      "execution_count": null,
      "outputs": [
        {
          "output_type": "stream",
          "name": "stdout",
          "text": [
            "肉\t名詞,一般,*,*,*,*,肉,ニク,ニク\n",
            "を\t助詞,格助詞,一般,*,*,*,を,ヲ,ヲ\n",
            "食べよ\t動詞,自立,*,*,一段,未然ウ接続,食べる,タベヨ,タベヨ\n",
            "う\t助動詞,*,*,*,不変化型,基本形,う,ウ,ウ\n",
            "！\t記号,一般,*,*,*,*,！,！,！\n"
          ]
        }
      ]
    },
    {
      "cell_type": "code",
      "source": [
        "for token in tokens:\n",
        "  print(token)\n",
        "  print(token.reading)"
      ],
      "metadata": {
        "id": "nNDkK4a4P4lZ",
        "colab": {
          "base_uri": "https://localhost:8080/"
        },
        "outputId": "b41c3944-b731-469e-f48e-c769ea37f189"
      },
      "execution_count": null,
      "outputs": [
        {
          "output_type": "stream",
          "name": "stdout",
          "text": [
            "肉\t名詞,一般,*,*,*,*,肉,ニク,ニク\n",
            "ニク\n",
            "を\t助詞,格助詞,一般,*,*,*,を,ヲ,ヲ\n",
            "ヲ\n",
            "食べよ\t動詞,自立,*,*,一段,未然ウ接続,食べる,タベヨ,タベヨ\n",
            "タベヨ\n",
            "う\t助動詞,*,*,*,不変化型,基本形,う,ウ,ウ\n",
            "ウ\n",
            "！\t記号,一般,*,*,*,*,！,！,！\n",
            "！\n"
          ]
        }
      ]
    },
    {
      "cell_type": "code",
      "source": [
        "for token in tokens:\n",
        "  print(token)\n",
        "  print(token.reading)\n"
      ],
      "metadata": {
        "id": "I8xPmKfKQB9H",
        "colab": {
          "base_uri": "https://localhost:8080/"
        },
        "outputId": "7da2bb2d-ea21-403f-ec93-eabac5776fff"
      },
      "execution_count": null,
      "outputs": [
        {
          "output_type": "stream",
          "name": "stdout",
          "text": [
            "肉\t名詞,一般,*,*,*,*,肉,ニク,ニク\n",
            "ニク\n",
            "を\t助詞,格助詞,一般,*,*,*,を,ヲ,ヲ\n",
            "ヲ\n",
            "食べよ\t動詞,自立,*,*,一段,未然ウ接続,食べる,タベヨ,タベヨ\n",
            "タベヨ\n",
            "う\t助動詞,*,*,*,不変化型,基本形,う,ウ,ウ\n",
            "ウ\n",
            "！\t記号,一般,*,*,*,*,！,！,！\n",
            "！\n"
          ]
        }
      ]
    },
    {
      "cell_type": "code",
      "source": [
        "for token in tokens:\n",
        "  print(token)\n",
        "  print(token.reading)\n"
      ],
      "metadata": {
        "id": "xZsx-l7WQElr",
        "colab": {
          "base_uri": "https://localhost:8080/"
        },
        "outputId": "cd0ac16a-48e4-4771-e4bf-b05b801e79e5"
      },
      "execution_count": null,
      "outputs": [
        {
          "output_type": "stream",
          "name": "stdout",
          "text": [
            "肉\t名詞,一般,*,*,*,*,肉,ニク,ニク\n",
            "ニク\n",
            "を\t助詞,格助詞,一般,*,*,*,を,ヲ,ヲ\n",
            "ヲ\n",
            "食べよ\t動詞,自立,*,*,一段,未然ウ接続,食べる,タベヨ,タベヨ\n",
            "タベヨ\n",
            "う\t助動詞,*,*,*,不変化型,基本形,う,ウ,ウ\n",
            "ウ\n",
            "！\t記号,一般,*,*,*,*,！,！,！\n",
            "！\n"
          ]
        }
      ]
    },
    {
      "cell_type": "code",
      "source": [
        "!pip install janome\n"
      ],
      "metadata": {
        "colab": {
          "base_uri": "https://localhost:8080/"
        },
        "id": "UbLa_mq6QO-Z",
        "outputId": "b18911e8-ece6-4e2f-b559-c2d867b42904"
      },
      "execution_count": null,
      "outputs": [
        {
          "output_type": "stream",
          "name": "stdout",
          "text": [
            "Requirement already satisfied: janome in /usr/local/lib/python3.10/dist-packages (0.5.0)\n"
          ]
        }
      ]
    },
    {
      "cell_type": "code",
      "source": [
        "from janome.tokenizer import Tokenizer\n",
        "\n",
        "tokenizer = Tokenizer()\n",
        "\n",
        "tokens = tokenizer.tokenize(\"肉を斬らせて骨を断つ！\")\n",
        "\n",
        "for token in tokens:\n",
        "  print(token)\n",
        "  print(token.reading)"
      ],
      "metadata": {
        "colab": {
          "base_uri": "https://localhost:8080/"
        },
        "id": "-zlepbIeQU5C",
        "outputId": "3c89fc9b-03ae-4938-8a24-c461063f6d83"
      },
      "execution_count": null,
      "outputs": [
        {
          "output_type": "stream",
          "name": "stdout",
          "text": [
            "肉\t名詞,一般,*,*,*,*,肉,ニク,ニク\n",
            "ニク\n",
            "を\t助詞,格助詞,一般,*,*,*,を,ヲ,ヲ\n",
            "ヲ\n",
            "斬ら\t動詞,自立,*,*,五段・ラ行,未然形,斬る,キラ,キラ\n",
            "キラ\n",
            "せ\t動詞,接尾,*,*,一段,連用形,せる,セ,セ\n",
            "セ\n",
            "て\t助詞,接続助詞,*,*,*,*,て,テ,テ\n",
            "テ\n",
            "骨\t名詞,一般,*,*,*,*,骨,ホネ,ホネ\n",
            "ホネ\n",
            "を\t助詞,格助詞,一般,*,*,*,を,ヲ,ヲ\n",
            "ヲ\n",
            "断つ\t動詞,自立,*,*,五段・タ行,基本形,断つ,タツ,タツ\n",
            "タツ\n",
            "！\t記号,一般,*,*,*,*,！,！,！\n",
            "！\n"
          ]
        }
      ]
    },
    {
      "cell_type": "code",
      "source": [
        "! curl https://www.cl.ecei.tohoku.ac.jp/resources/sent_lex/pn.csv.m3.120408.trim > pn.csv\n"
      ],
      "metadata": {
        "colab": {
          "base_uri": "https://localhost:8080/"
        },
        "id": "DyvEfFO7QmfB",
        "outputId": "8e019db7-4244-4e7d-9391-c7264e86ba40"
      },
      "execution_count": null,
      "outputs": [
        {
          "output_type": "stream",
          "name": "stdout",
          "text": [
            "  % Total    % Received % Xferd  Average Speed   Time    Time     Time  Current\n",
            "                                 Dload  Upload   Total   Spent    Left  Speed\n",
            "100  676k  100  676k    0     0   560k      0  0:00:01  0:00:01 --:--:--  560k\n"
          ]
        }
      ]
    },
    {
      "cell_type": "code",
      "source": [
        "import csv\n",
        "np_dic={}\n",
        "fp=open(\"pn.csv\", \"rt\", encoding=\"utf-8\")\n",
        "reader=csv.reader(fp, delimiter='\\t')\n",
        "\n",
        "for i, row in enumerate(reader):\n",
        "  name=row[0]\n",
        "  result=row[1]\n",
        "  np_dic[name]=result\n",
        "  if i%1000==0: print(i)\n",
        "\n",
        "print(\"ok\")"
      ],
      "metadata": {
        "colab": {
          "base_uri": "https://localhost:8080/"
        },
        "id": "58SARKS3RJD0",
        "outputId": "394a7d47-ad2f-4907-ff01-31748b00078a"
      },
      "execution_count": null,
      "outputs": [
        {
          "output_type": "stream",
          "name": "stdout",
          "text": [
            "0\n",
            "1000\n",
            "2000\n",
            "3000\n",
            "4000\n",
            "5000\n",
            "6000\n",
            "7000\n",
            "8000\n",
            "9000\n",
            "10000\n",
            "11000\n",
            "12000\n",
            "13000\n",
            "ok\n"
          ]
        }
      ]
    }
  ]
}